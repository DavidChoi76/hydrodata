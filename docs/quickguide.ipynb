{
 "cells": [
  {
   "cell_type": "markdown",
   "metadata": {},
   "source": [
    "# Quickstart Guide"
   ]
  },
  {
   "cell_type": "code",
   "execution_count": 1,
   "metadata": {},
   "outputs": [],
   "source": [
    "from hydrodata import Station, utils\n",
    "import hydrodata.datasets as hds\n",
    "from hydrodata import plot\n",
    "from hydrodata import services\n",
    "from arcgis2geojson import arcgis2geojson\n",
    "import matplotlib.pyplot as plt\n",
    "import geopandas as gpd\n",
    "import warnings"
   ]
  },
  {
   "cell_type": "code",
   "execution_count": 2,
   "metadata": {},
   "outputs": [],
   "source": [
    "warnings.filterwarnings(\"ignore\")"
   ]
  },
  {
   "cell_type": "markdown",
   "metadata": {},
   "source": [
    "Here are some examples to quickly get you started with basic capabilities of HydroData. The rest of documentation details other funtionalities of HydroData in more details."
   ]
  },
  {
   "cell_type": "markdown",
   "metadata": {},
   "source": [
    "## Station"
   ]
  },
  {
   "cell_type": "markdown",
   "metadata": {},
   "source": [
    "`Station` provides some information for a USGS station based on ID or coordinates (longitude and latitude). It requires at least three parameters: start date, end date and a USGS station ID or coordinates. Upon instantiation, the station and its watershed characteristics are found using [NLDI](https://labs.waterdata.usgs.gov/about-nldi/) and [USGS Site Information](https://waterdata.usgs.gov/nwis/si) services."
   ]
  },
  {
   "cell_type": "code",
   "execution_count": null,
   "metadata": {},
   "outputs": [],
   "source": [
    "wshed = Station('2000-01-01', '2010-01-21', station_id='01031500')\n",
    "wshed.hcdn"
   ]
  },
  {
   "cell_type": "markdown",
   "metadata": {},
   "source": [
    "The ``wshed.hcdn`` property shows that this station is located in a natural environment and is not affected by human activity."
   ]
  },
  {
   "cell_type": "markdown",
   "metadata": {},
   "source": [
    "## NHDPlus"
   ]
  },
  {
   "cell_type": "markdown",
   "metadata": {},
   "source": [
    "The river network including tributaries and main river channel for the watershed can be retrived from NHDPlus database. Additionally, using the retrieved information such as the watershed geometry we can then use the `datasets` module to access other databases. For example, we can find the USGS stations upstream (or downstream) of the main river channel (or tributatires) up to a certain distance, say 150 km. Also, all the USGS stations inside the watershed can be found:"
   ]
  },
  {
   "cell_type": "code",
   "execution_count": null,
   "metadata": {},
   "outputs": [],
   "source": [
    "tributaries = hds.NLDI.tributaries(wshed.station_id)\n",
    "main_channel = hds.NLDI.main(wshed.station_id)\n",
    "stations = hds.NLDI.stations(wshed.station_id)\n",
    "stations_upto_150 = hds.NLDI.stations(wshed.station_id, navigation=\"upstreamMain\", distance=150)\n",
    "\n",
    "ax = wshed.basin.plot(color='white', edgecolor='black', zorder=1, figsize = (8, 8))\n",
    "tributaries.plot(ax=ax, label='Tributaries', zorder=2)\n",
    "main_channel.plot(ax=ax, color='green', lw=3, label='Main', zorder=3)\n",
    "stations.plot(ax=ax, color='black', label='All stations', marker='s', zorder=4)\n",
    "stations_upto_150.plot(ax=ax, color='red', label='Stations up to 150 km upstream of main', marker='*', zorder=5)\n",
    "ax.legend(loc='best')\n",
    "ax.figure.set_dpi(100);"
   ]
  },
  {
   "cell_type": "markdown",
   "metadata": {},
   "source": [
    "## Data for Single Pixel "
   ]
  },
  {
   "cell_type": "markdown",
   "metadata": {},
   "source": [
    "The climate data and streamflow observations for the location of interest can be retrieved and plotted using ``plot`` module that plots five hydrologic signatures graphs in one plot."
   ]
  },
  {
   "cell_type": "code",
   "execution_count": null,
   "metadata": {},
   "outputs": [],
   "source": [
    "clm_p = hds.daymet_byloc(wshed.lon, wshed.lat, start=wshed.start, end=wshed.end)\n",
    "clm_p['Q (cms)'] = hds.nwis_streamflow(wshed.station_id, wshed.start, wshed.end)"
   ]
  },
  {
   "cell_type": "code",
   "execution_count": null,
   "metadata": {},
   "outputs": [],
   "source": [
    "plot.signatures({\"Q\": (clm_p['Q (cms)'], wshed.drainage_area)}, clm_p[\"prcp (mm/day)\"])"
   ]
  },
  {
   "cell_type": "markdown",
   "metadata": {},
   "source": [
    "## Gridded Datasets"
   ]
  },
  {
   "cell_type": "markdown",
   "metadata": {},
   "source": [
    "Other than point-based data, gridded data can also be accessed at the desired resolution. Furthermore, the watershed geometry can be used to mask the gridded data."
   ]
  },
  {
   "cell_type": "markdown",
   "metadata": {},
   "source": [
    "DEM can be retrieved for the station's contributing watershed at 1 arc-second (30 m) resolution, as follows:"
   ]
  },
  {
   "cell_type": "code",
   "execution_count": null,
   "metadata": {},
   "outputs": [],
   "source": [
    "dem = hds.nationalmap_dem(wshed.geometry, resolution=1)\n",
    "ax = dem.plot(size=6)\n",
    "ax.figure.set_dpi(100);"
   ]
  },
  {
   "cell_type": "code",
   "execution_count": null,
   "metadata": {},
   "outputs": [],
   "source": [
    "variables = [\"tmin\", \"tmax\", \"prcp\"]\n",
    "clm_g = hds.daymet_bygeom(wshed.geometry, start='2005-01-01', end='2005-01-31', variables=variables, pet=True)\n",
    "eta_g = hds.ssebopeta_bygeom(wshed.geometry, start='2005-01-01', end='2005-01-31')"
   ]
  },
  {
   "cell_type": "markdown",
   "metadata": {},
   "source": [
    "All the gridded data are returned as [xarray](https://xarray.pydata.org/en/stable/) datasets that has efficient data processing tools. Note that Daymet dataset's projection is [Lambert](https://daymet.ornl.gov/overview)."
   ]
  },
  {
   "cell_type": "code",
   "execution_count": null,
   "metadata": {},
   "outputs": [],
   "source": [
    "fig, axes = plt.subplots(ncols=2, figsize=(13, 5))\n",
    "clm_g.prcp.isel(time=10).plot(ax=axes[0])\n",
    "eta_g.isel(time=10).plot(ax=axes[1])\n",
    "fig.set_dpi(100);"
   ]
  },
  {
   "cell_type": "markdown",
   "metadata": {},
   "source": [
    "## Adding New Database"
   ]
  },
  {
   "cell_type": "markdown",
   "metadata": {},
   "source": [
    "The ``services`` module can be used for accessing [Los Angeles GeoHub](http://geohub.lacity.org/) RESTful service, NationalMap's [3D Eleveation Program](https://www.usgs.gov/core-science-systems/ngp/3dep) via WMS and [FEMA National Flood Hazard Layer](https://www.fema.gov/national-flood-hazard-layer-nfhl) via WFS for a watershed in Los Angeles:"
   ]
  },
  {
   "cell_type": "code",
   "execution_count": null,
   "metadata": {},
   "outputs": [],
   "source": [
    "la_wshed = Station('2005-01-01', '2005-01-31', '11092450')\n",
    "\n",
    "url_rest = \"https://maps.lacity.org/lahub/rest/services/Stormwater_Information/MapServer/10\"\n",
    "s = services.ArcGISREST(url_rest, outFormat=\"json\")\n",
    "s.get_featureids(la_wshed.geometry)\n",
    "storm_pipes = s.get_features()\n",
    "\n",
    "url_wms = \"https://elevation.nationalmap.gov/arcgis/services/3DEPElevation/ImageServer/WMSServer\"\n",
    "slope = services.wms_bygeom(\n",
    "                  url_wms,\n",
    "                  \"3DEP\",\n",
    "                  geometry=wshed.geometry,\n",
    "                  version=\"1.3.0\",\n",
    "                  layers={\"slope\": \"3DEPElevation:Slope Degrees\"},\n",
    "                  outFormat=\"image/tiff\",\n",
    "                  resolution=1)\n",
    "\n",
    "url_wfs = \"https://hazards.fema.gov/gis/nfhl/services/public/NFHL/MapServer/WFSServer\"\n",
    "wfs = services.WFS(\n",
    "    url_wfs,\n",
    "    layer=\"public_NFHL:Base_Flood_Elevations\",\n",
    "    outFormat=\"esrigeojson\",\n",
    "    crs=\"epsg:4269\",\n",
    ")\n",
    "r = wfs.getfeature_bybox(la_wshed.geometry.bounds, in_crs=\"epsg:4326\")\n",
    "flood = utils.json_togeodf(r.json(), \"epsg:4269\", \"epsg:4326\")"
   ]
  },
  {
   "cell_type": "markdown",
   "metadata": {},
   "source": [
    "## Flow Accumulation"
   ]
  },
  {
   "cell_type": "markdown",
   "metadata": {},
   "source": [
    "For demonstration purposes, lets assum the flow in each river segment is equal to the length of the river segment. Therefore, it should produce the same results as the ``arbolatesu`` variable in the NHDPlus database."
   ]
  },
  {
   "cell_type": "code",
   "execution_count": null,
   "metadata": {},
   "outputs": [],
   "source": [
    "flw.loc[flw[\"comid\"] == 22515878, \"lengthkm\"].array"
   ]
  },
  {
   "cell_type": "code",
   "execution_count": 3,
   "metadata": {},
   "outputs": [
    {
     "ename": "AttributeError",
     "evalue": "'DataFrame' object has no attribute 'array'",
     "output_type": "error",
     "traceback": [
      "\u001b[0;31m---------------------------------------------------------------------------\u001b[0m",
      "\u001b[0;31mAttributeError\u001b[0m                            Traceback (most recent call last)",
      "\u001b[0;32m<ipython-input-3-566065780fbb>\u001b[0m in \u001b[0;36m<module>\u001b[0;34m\u001b[0m\n\u001b[1;32m      4\u001b[0m     \u001b[0;32mreturn\u001b[0m \u001b[0mqin\u001b[0m \u001b[0;34m+\u001b[0m \u001b[0mq\u001b[0m\u001b[0;34m\u001b[0m\u001b[0;34m\u001b[0m\u001b[0m\n\u001b[1;32m      5\u001b[0m \u001b[0;34m\u001b[0m\u001b[0m\n\u001b[0;32m----> 6\u001b[0;31m \u001b[0mqsim\u001b[0m \u001b[0;34m=\u001b[0m \u001b[0mutils\u001b[0m\u001b[0;34m.\u001b[0m\u001b[0mvector_accumulation\u001b[0m\u001b[0;34m(\u001b[0m\u001b[0mflw\u001b[0m\u001b[0;34m[\u001b[0m\u001b[0;34m[\u001b[0m\u001b[0;34m\"comid\"\u001b[0m\u001b[0;34m,\u001b[0m \u001b[0;34m\"tocomid\"\u001b[0m\u001b[0;34m,\u001b[0m \u001b[0;34m\"lengthkm\"\u001b[0m\u001b[0;34m]\u001b[0m\u001b[0;34m]\u001b[0m\u001b[0;34m,\u001b[0m \u001b[0mrouting\u001b[0m\u001b[0;34m,\u001b[0m \u001b[0;34m\"lengthkm\"\u001b[0m\u001b[0;34m,\u001b[0m \u001b[0;34m[\u001b[0m\u001b[0;34m\"lengthkm\"\u001b[0m\u001b[0;34m]\u001b[0m\u001b[0;34m,\u001b[0m \u001b[0mthreading\u001b[0m\u001b[0;34m=\u001b[0m\u001b[0;32mFalse\u001b[0m\u001b[0;34m)\u001b[0m\u001b[0;34m\u001b[0m\u001b[0;34m\u001b[0m\u001b[0m\n\u001b[0m\u001b[1;32m      7\u001b[0m \u001b[0mflw\u001b[0m \u001b[0;34m=\u001b[0m \u001b[0mflw\u001b[0m\u001b[0;34m.\u001b[0m\u001b[0mmerge\u001b[0m\u001b[0;34m(\u001b[0m\u001b[0mqsim\u001b[0m\u001b[0;34m,\u001b[0m \u001b[0mon\u001b[0m\u001b[0;34m=\u001b[0m\u001b[0;34m\"comid\"\u001b[0m\u001b[0;34m)\u001b[0m\u001b[0;34m\u001b[0m\u001b[0;34m\u001b[0m\u001b[0m\n\u001b[1;32m      8\u001b[0m \u001b[0mdiff\u001b[0m \u001b[0;34m=\u001b[0m \u001b[0mflw\u001b[0m\u001b[0;34m.\u001b[0m\u001b[0marbolatesu\u001b[0m \u001b[0;34m-\u001b[0m \u001b[0mflw\u001b[0m\u001b[0;34m.\u001b[0m\u001b[0macc\u001b[0m\u001b[0;34m\u001b[0m\u001b[0;34m\u001b[0m\u001b[0m\n",
      "\u001b[0;32m~/.local/apps/miniconda/envs/hydrodata/lib/python3.8/site-packages/hydrodata-0.5.1-py3.8.egg/hydrodata/utils.py\u001b[0m in \u001b[0;36mvector_accumulation\u001b[0;34m(flowlines, func, attr_col, arg_cols, id_col, toid_col, threading, n_threads, verbose)\u001b[0m\n\u001b[1;32m   1166\u001b[0m     \u001b[0;32melse\u001b[0m\u001b[0;34m:\u001b[0m\u001b[0;34m\u001b[0m\u001b[0;34m\u001b[0m\u001b[0m\n\u001b[1;32m   1167\u001b[0m         \u001b[0;32mfor\u001b[0m \u001b[0mi\u001b[0m \u001b[0;32min\u001b[0m \u001b[0mtopo_sorted\u001b[0m\u001b[0;34m:\u001b[0m\u001b[0;34m\u001b[0m\u001b[0;34m\u001b[0m\u001b[0m\n\u001b[0;32m-> 1168\u001b[0;31m             \u001b[0mprint\u001b[0m\u001b[0;34m(\u001b[0m\u001b[0mflowlines\u001b[0m\u001b[0;34m.\u001b[0m\u001b[0mloc\u001b[0m\u001b[0;34m[\u001b[0m\u001b[0mflowlines\u001b[0m\u001b[0;34m[\u001b[0m\u001b[0mid_col\u001b[0m\u001b[0;34m]\u001b[0m \u001b[0;34m==\u001b[0m \u001b[0mi\u001b[0m\u001b[0;34m,\u001b[0m \u001b[0marg_cols\u001b[0m\u001b[0;34m]\u001b[0m\u001b[0;34m.\u001b[0m\u001b[0marray\u001b[0m\u001b[0;34m)\u001b[0m\u001b[0;34m\u001b[0m\u001b[0;34m\u001b[0m\u001b[0m\n\u001b[0m\u001b[1;32m   1169\u001b[0m             outflow[i] = func(\n\u001b[1;32m   1170\u001b[0m                 \u001b[0mnp\u001b[0m\u001b[0;34m.\u001b[0m\u001b[0msum\u001b[0m\u001b[0;34m(\u001b[0m\u001b[0;34m[\u001b[0m\u001b[0moutflow\u001b[0m\u001b[0;34m[\u001b[0m\u001b[0mu\u001b[0m\u001b[0;34m]\u001b[0m \u001b[0;32mfor\u001b[0m \u001b[0mu\u001b[0m \u001b[0;32min\u001b[0m \u001b[0mupstream_nodes\u001b[0m\u001b[0;34m[\u001b[0m\u001b[0mi\u001b[0m\u001b[0;34m]\u001b[0m\u001b[0;34m]\u001b[0m\u001b[0;34m,\u001b[0m \u001b[0maxis\u001b[0m\u001b[0;34m=\u001b[0m\u001b[0;36m0\u001b[0m\u001b[0;34m)\u001b[0m\u001b[0;34m,\u001b[0m\u001b[0;34m\u001b[0m\u001b[0;34m\u001b[0m\u001b[0m\n",
      "\u001b[0;32m~/.local/apps/miniconda/envs/hydrodata/lib/python3.8/site-packages/pandas/core/generic.py\u001b[0m in \u001b[0;36m__getattr__\u001b[0;34m(self, name)\u001b[0m\n\u001b[1;32m   5272\u001b[0m             \u001b[0;32mif\u001b[0m \u001b[0mself\u001b[0m\u001b[0;34m.\u001b[0m\u001b[0m_info_axis\u001b[0m\u001b[0;34m.\u001b[0m\u001b[0m_can_hold_identifiers_and_holds_name\u001b[0m\u001b[0;34m(\u001b[0m\u001b[0mname\u001b[0m\u001b[0;34m)\u001b[0m\u001b[0;34m:\u001b[0m\u001b[0;34m\u001b[0m\u001b[0;34m\u001b[0m\u001b[0m\n\u001b[1;32m   5273\u001b[0m                 \u001b[0;32mreturn\u001b[0m \u001b[0mself\u001b[0m\u001b[0;34m[\u001b[0m\u001b[0mname\u001b[0m\u001b[0;34m]\u001b[0m\u001b[0;34m\u001b[0m\u001b[0;34m\u001b[0m\u001b[0m\n\u001b[0;32m-> 5274\u001b[0;31m             \u001b[0;32mreturn\u001b[0m \u001b[0mobject\u001b[0m\u001b[0;34m.\u001b[0m\u001b[0m__getattribute__\u001b[0m\u001b[0;34m(\u001b[0m\u001b[0mself\u001b[0m\u001b[0;34m,\u001b[0m \u001b[0mname\u001b[0m\u001b[0;34m)\u001b[0m\u001b[0;34m\u001b[0m\u001b[0;34m\u001b[0m\u001b[0m\n\u001b[0m\u001b[1;32m   5275\u001b[0m \u001b[0;34m\u001b[0m\u001b[0m\n\u001b[1;32m   5276\u001b[0m     \u001b[0;32mdef\u001b[0m \u001b[0m__setattr__\u001b[0m\u001b[0;34m(\u001b[0m\u001b[0mself\u001b[0m\u001b[0;34m,\u001b[0m \u001b[0mname\u001b[0m\u001b[0;34m:\u001b[0m \u001b[0mstr\u001b[0m\u001b[0;34m,\u001b[0m \u001b[0mvalue\u001b[0m\u001b[0;34m)\u001b[0m \u001b[0;34m->\u001b[0m \u001b[0;32mNone\u001b[0m\u001b[0;34m:\u001b[0m\u001b[0;34m\u001b[0m\u001b[0;34m\u001b[0m\u001b[0m\n",
      "\u001b[0;31mAttributeError\u001b[0m: 'DataFrame' object has no attribute 'array'"
     ]
    }
   ],
   "source": [
    "flw = utils.prepare_nhdplus(hds.NLDI.flowlines('11092450'), 0, 0, purge_non_dendritic=False)\n",
    "\n",
    "def routing(qin, q):\n",
    "    return qin + q\n",
    "\n",
    "qsim = utils.vector_accumulation(flw[[\"comid\", \"tocomid\", \"lengthkm\"]], routing, \"lengthkm\", [\"lengthkm\"], threading=False)\n",
    "flw = flw.merge(qsim, on=\"comid\")\n",
    "diff = flw.arbolatesu - flw.acc\n",
    "diff.abs().sum()"
   ]
  }
 ],
 "metadata": {
  "kernelspec": {
   "display_name": "Python 3",
   "language": "python",
   "name": "python3"
  },
  "language_info": {
   "codemirror_mode": {
    "name": "ipython",
    "version": 3
   },
   "file_extension": ".py",
   "mimetype": "text/x-python",
   "name": "python",
   "nbconvert_exporter": "python",
   "pygments_lexer": "ipython3",
   "version": "3.8.2"
  }
 },
 "nbformat": 4,
 "nbformat_minor": 4
}
